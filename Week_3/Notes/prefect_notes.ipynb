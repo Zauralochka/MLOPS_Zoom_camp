{
 "cells": [
  {
   "cell_type": "markdown",
   "metadata": {},
   "source": [
    "# Prefect notes\n",
    "\n",
    "### 3.2 Set up\n",
    "\n",
    "Navigate the folder and clone repository\\\n",
    "`git clone https://github.com/discdiver/prefect-mlops-zoomcamp.git`\n",
    "\n",
    "Create conda environment\\\n",
    "`conda create -n prefect-ops python==3.9.12`\n",
    "\n",
    "Activate the environment\\\n",
    "`conda activate prefect-ops`\n",
    "\n",
    "Navigate the new folder __pefect-mlops-zoomcamp__ and install dependencies\\\n",
    "`pip install -r requirements.txt`\n",
    "\n",
    "ToRun server use command\n",
    "`prefect server start`\n",
    "\n",
    "Open new terminal and navigate the folder\n",
    "`cd ./prefect-mlops-zoomcamp.git`\n",
    "\n",
    "Then activate created environment see command above\n",
    "\n",
    "Set the prefect API URL and update profile\n",
    "`prefect config set PREFECT_API_URL=http://127.0.0.1:4200/api`"
   ]
  },
  {
   "cell_type": "markdown",
   "metadata": {},
   "source": [
    "### 3.4 Use the following to create the project\\\n",
    "`prefect project init`\\ \n",
    "`prefect deploy 3.4/orchestrate.py:main_flow -n taxi1 -p zoomcamp_pool`\n",
    "`prefect worker start -p zoomcamp_pool`\n",
    "\n"
   ]
  },
  {
   "cell_type": "markdown",
   "metadata": {},
   "source": [
    "### 3.5 Working with Deployment\n"
   ]
  }
 ],
 "metadata": {
  "kernelspec": {
   "display_name": "Python 3.8.9 ('olgahome-LMUn4EZz')",
   "language": "python",
   "name": "python3"
  },
  "language_info": {
   "name": "python",
   "version": "3.8.9"
  },
  "orig_nbformat": 4,
  "vscode": {
   "interpreter": {
    "hash": "7a2d2d0fb2239c9f9c83472578a5e073851f8734a889eb6fdc8902c9863b2e7a"
   }
  }
 },
 "nbformat": 4,
 "nbformat_minor": 2
}
