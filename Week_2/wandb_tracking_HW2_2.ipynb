{
 "cells": [
  {
   "cell_type": "markdown",
   "metadata": {},
   "source": [
    "### Q1. Install the Package\n",
    "To get started with Weights & Biases you'll need to install the appropriate Python package.\n",
    "\n",
    "For this we recommend creating a separate Python environment, for example, you can use conda environments, and then install the package there with pip or conda.\n",
    "\n",
    "Following are the libraries you need to install:\n",
    "\n",
    "* pandas\n",
    "* matplotlib\n",
    "* scikit-learn\n",
    "* pyarrow\n",
    "* wandb\n",
    "Once you installed the package, run the command wandb --version and check the output.\n",
    "\n",
    "What's the version that you have? wandb, version 0.15.4"
   ]
  },
  {
   "cell_type": "markdown",
   "metadata": {},
   "source": [
    "Set up environment first\n",
    "\n",
    "Check available environment\n",
    "`conda env list`\n",
    "\n",
    "Create new environment\n",
    "`conda create -n wandb-tracking-env`\n",
    "\n",
    "Install libraries\n",
    "`pip install -r requirements.txt`\n",
    "\n",
    "Activate environment\n",
    "`conda activate wandb-tracking-env`\n",
    "\n",
    "Then check the version\n",
    "`wandb --version`\n"
   ]
  },
  {
   "cell_type": "markdown",
   "metadata": {},
   "source": [
    "### Q2. Download and preprocess the data\n",
    "We'll use the Green Taxi Trip Records dataset to predict the amount of tips for each trip.\n",
    "\n",
    "Download the data for January, February and March 2022 in parquet format from here.\n",
    "\n",
    "The script will:\n",
    "\n",
    "initialize a Weights & Biases run.\n",
    "load the data from the folder <TAXI_DATA_FOLDER> (the folder where you have downloaded the data),\n",
    "fit a DictVectorizer on the training set (January 2022 data),\n",
    "save the preprocessed datasets and the DictVectorizer to your Weights & Biases dashboard as an artifact of type preprocessed_dataset.\n",
    "Your task is to download the datasets and then execute this command:\n",
    "\n",
    "python preprocess_data.py \\\n",
    "  --wandb_project <WANDB_PROJECT_NAME> \\\n",
    "  --wandb_entity <WANDB_USERNAME> \\\n",
    "  --raw_data_path <TAXI_DATA_FOLDER> \\\n",
    "  --dest_path ./output\n",
    "\n",
    "Once you navigate to the Files tab of your artifact on your Weights & Biases page, what's the size of the saved DictVectorizer file?\n",
    "\n",
    "54 kB\n",
    "154 kB *\n",
    "54 MB\n",
    "154 MB"
   ]
  },
  {
   "cell_type": "markdown",
   "metadata": {},
   "source": [
    "### Q3. Train a model with Weights & Biases logging\n",
    "We will train a RandomForestRegressor (from Scikit-Learn) on the taxi dataset.\n",
    "Once you have successfully ran the script, navigate the Overview section of the run in the Weights & Biases UI and scroll down to the Configs. What is the value of the max_depth parameter:\n",
    "\n",
    "4\n",
    "6\n",
    "8\n",
    "10 *"
   ]
  },
  {
   "cell_type": "markdown",
   "metadata": {},
   "source": [
    "### Q4. Tune model hyperparameters\n",
    "Now let's try to reduce the validation error by tuning the hyperparameters of the RandomForestRegressor using Weights & Biases Sweeps. We have prepared the script sweep.py for this exercise in the homework-wandb directory.\n",
    "which hyperparameter is the most important:\n",
    "\n",
    "max_depth *\n",
    "n_estimators\n",
    "min_samples_split\n",
    "min_samples_leaf"
   ]
  },
  {
   "cell_type": "markdown",
   "metadata": {},
   "source": [
    "### Q5. Link the best model to the model registry\n",
    "Now that we have obtained the optimal set of hyperparameters and trained the best model, we can assume that we are ready to test some of these models in production. In this exercise, you'll create a model registry and link the best model from the Sweep to the model registry."
   ]
  },
  {
   "cell_type": "code",
   "execution_count": null,
   "metadata": {},
   "outputs": [],
   "source": []
  }
 ],
 "metadata": {
  "kernelspec": {
   "display_name": "Python 3.8.9 ('olgahome-LMUn4EZz')",
   "language": "python",
   "name": "python3"
  },
  "language_info": {
   "name": "python",
   "version": "3.8.9"
  },
  "orig_nbformat": 4,
  "vscode": {
   "interpreter": {
    "hash": "7a2d2d0fb2239c9f9c83472578a5e073851f8734a889eb6fdc8902c9863b2e7a"
   }
  }
 },
 "nbformat": 4,
 "nbformat_minor": 2
}
