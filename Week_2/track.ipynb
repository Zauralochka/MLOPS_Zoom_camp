{
 "cells": [
  {
   "cell_type": "code",
   "execution_count": 5,
   "metadata": {},
   "outputs": [],
   "source": [
    "import mlflow\n",
    "from mlflow.tracking import MlflowClient\n",
    "\n",
    "MLFLOW_TRACKING_URI = \"sqlite:///mlflow.db\"\n",
    "\n",
    "client = mlflow.tracking.MlflowClient(tracking_uri=MLFLOW_TRACKING_URI)"
   ]
  },
  {
   "cell_type": "code",
   "execution_count": 7,
   "metadata": {},
   "outputs": [
    {
     "data": {
      "text/plain": [
       "[<Experiment: artifact_location='/Users/olgahome/Documents/MLOps_course/MLOPS_Zoom_camp/Week_2/mlruns/6', creation_time=1685854716971, experiment_id='6', last_update_time=1685854716971, lifecycle_stage='active', name='nyc-taxi-predict', tags={}>,\n",
       " <Experiment: artifact_location='mlflow-artifacts:/3', creation_time=1685627446967, experiment_id='3', last_update_time=1685627446967, lifecycle_stage='active', name='random-forest-hyperopt', tags={}>,\n",
       " <Experiment: artifact_location='mlflow-artifacts:/2', creation_time=1685626109028, experiment_id='2', last_update_time=1685626109028, lifecycle_stage='active', name='nyc-random-forest', tags={}>,\n",
       " <Experiment: artifact_location='mlflow-artifacts:/0', creation_time=1685533233215, experiment_id='0', last_update_time=1685533233215, lifecycle_stage='active', name='Default', tags={}>]"
      ]
     },
     "execution_count": 7,
     "metadata": {},
     "output_type": "execute_result"
    }
   ],
   "source": [
    "client.search_experiments()"
   ]
  },
  {
   "cell_type": "code",
   "execution_count": null,
   "metadata": {},
   "outputs": [],
   "source": []
  }
 ],
 "metadata": {
  "kernelspec": {
   "display_name": "Python 3.9.16 ('exp-tracking-env')",
   "language": "python",
   "name": "python3"
  },
  "language_info": {
   "codemirror_mode": {
    "name": "ipython",
    "version": 3
   },
   "file_extension": ".py",
   "mimetype": "text/x-python",
   "name": "python",
   "nbconvert_exporter": "python",
   "pygments_lexer": "ipython3",
   "version": "3.9.16"
  },
  "orig_nbformat": 4,
  "vscode": {
   "interpreter": {
    "hash": "9bd1edbd3610be016555fcfecc39301aeb04cc79c4fb6eeea7957037d01ce86f"
   }
  }
 },
 "nbformat": 4,
 "nbformat_minor": 2
}
